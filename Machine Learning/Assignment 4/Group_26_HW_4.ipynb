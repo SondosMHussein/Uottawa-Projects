{
  "cells": [
    {
      "cell_type": "markdown",
      "metadata": {
        "id": "n91hs3Je-5Sg"
      },
      "source": [
        "## Importing  the libraries"
      ]
    },
    {
      "cell_type": "code",
      "execution_count": null,
      "metadata": {
        "id": "tjaMRMJp-PUN"
      },
      "outputs": [],
      "source": [
        "#Essential libraries\n",
        "import numpy as np\n",
        "import pandas as pd\n",
        "import matplotlib.pyplot as plt\n",
        "import seaborn as sns \n",
        "%matplotlib inline\n",
        "\n",
        "#Machine learning \n",
        "from sklearn.svm import SVC\n",
        "from sklearn.ensemble import VotingClassifier\n",
        "from sklearn.linear_model import LogisticRegression\n",
        "from sklearn.tree import DecisionTreeClassifier\n",
        "from sklearn.metrics import accuracy_score\n",
        "from sklearn.ensemble import BaggingClassifier\n",
        "from sklearn.ensemble import GradientBoostingClassifier\n",
        "from xgboost import XGBClassifier\n",
        "\n",
        "#Evaluation\n",
        "from sklearn.metrics import accuracy_score, confusion_matrix, ConfusionMatrixDisplay"
      ]
    },
    {
      "cell_type": "markdown",
      "metadata": {
        "id": "pmy7_0V6_5jD"
      },
      "source": [
        "## Importing the dataset"
      ]
    },
    {
      "cell_type": "code",
      "execution_count": null,
      "metadata": {
        "colab": {
          "base_uri": "https://localhost:8080/",
          "height": 206
        },
        "id": "JzT4FP1d_3tJ",
        "outputId": "835027a2-9f65-436d-89b6-919588413ce8"
      },
      "outputs": [
        {
          "data": {
            "text/html": [
              "\n",
              "  <div id=\"df-521dd2e3-fd29-48ca-8624-d6ea22b4207f\">\n",
              "    <div class=\"colab-df-container\">\n",
              "      <div>\n",
              "<style scoped>\n",
              "    .dataframe tbody tr th:only-of-type {\n",
              "        vertical-align: middle;\n",
              "    }\n",
              "\n",
              "    .dataframe tbody tr th {\n",
              "        vertical-align: top;\n",
              "    }\n",
              "\n",
              "    .dataframe thead th {\n",
              "        text-align: right;\n",
              "    }\n",
              "</style>\n",
              "<table border=\"1\" class=\"dataframe\">\n",
              "  <thead>\n",
              "    <tr style=\"text-align: right;\">\n",
              "      <th></th>\n",
              "      <th>47</th>\n",
              "      <th>100</th>\n",
              "      <th>27</th>\n",
              "      <th>81</th>\n",
              "      <th>57</th>\n",
              "      <th>37</th>\n",
              "      <th>26</th>\n",
              "      <th>0</th>\n",
              "      <th>0.1</th>\n",
              "      <th>23</th>\n",
              "      <th>56</th>\n",
              "      <th>53</th>\n",
              "      <th>100.1</th>\n",
              "      <th>90</th>\n",
              "      <th>40</th>\n",
              "      <th>98</th>\n",
              "      <th>8</th>\n",
              "    </tr>\n",
              "  </thead>\n",
              "  <tbody>\n",
              "    <tr>\n",
              "      <th>0</th>\n",
              "      <td>0</td>\n",
              "      <td>89</td>\n",
              "      <td>27</td>\n",
              "      <td>100</td>\n",
              "      <td>42</td>\n",
              "      <td>75</td>\n",
              "      <td>29</td>\n",
              "      <td>45</td>\n",
              "      <td>15</td>\n",
              "      <td>15</td>\n",
              "      <td>37</td>\n",
              "      <td>0</td>\n",
              "      <td>69</td>\n",
              "      <td>2</td>\n",
              "      <td>100</td>\n",
              "      <td>6</td>\n",
              "      <td>2</td>\n",
              "    </tr>\n",
              "    <tr>\n",
              "      <th>1</th>\n",
              "      <td>0</td>\n",
              "      <td>57</td>\n",
              "      <td>31</td>\n",
              "      <td>68</td>\n",
              "      <td>72</td>\n",
              "      <td>90</td>\n",
              "      <td>100</td>\n",
              "      <td>100</td>\n",
              "      <td>76</td>\n",
              "      <td>75</td>\n",
              "      <td>50</td>\n",
              "      <td>51</td>\n",
              "      <td>28</td>\n",
              "      <td>25</td>\n",
              "      <td>16</td>\n",
              "      <td>0</td>\n",
              "      <td>1</td>\n",
              "    </tr>\n",
              "    <tr>\n",
              "      <th>2</th>\n",
              "      <td>0</td>\n",
              "      <td>100</td>\n",
              "      <td>7</td>\n",
              "      <td>92</td>\n",
              "      <td>5</td>\n",
              "      <td>68</td>\n",
              "      <td>19</td>\n",
              "      <td>45</td>\n",
              "      <td>86</td>\n",
              "      <td>34</td>\n",
              "      <td>100</td>\n",
              "      <td>45</td>\n",
              "      <td>74</td>\n",
              "      <td>23</td>\n",
              "      <td>67</td>\n",
              "      <td>0</td>\n",
              "      <td>4</td>\n",
              "    </tr>\n",
              "    <tr>\n",
              "      <th>3</th>\n",
              "      <td>0</td>\n",
              "      <td>67</td>\n",
              "      <td>49</td>\n",
              "      <td>83</td>\n",
              "      <td>100</td>\n",
              "      <td>100</td>\n",
              "      <td>81</td>\n",
              "      <td>80</td>\n",
              "      <td>60</td>\n",
              "      <td>60</td>\n",
              "      <td>40</td>\n",
              "      <td>40</td>\n",
              "      <td>33</td>\n",
              "      <td>20</td>\n",
              "      <td>47</td>\n",
              "      <td>0</td>\n",
              "      <td>1</td>\n",
              "    </tr>\n",
              "    <tr>\n",
              "      <th>4</th>\n",
              "      <td>100</td>\n",
              "      <td>100</td>\n",
              "      <td>88</td>\n",
              "      <td>99</td>\n",
              "      <td>49</td>\n",
              "      <td>74</td>\n",
              "      <td>17</td>\n",
              "      <td>47</td>\n",
              "      <td>0</td>\n",
              "      <td>16</td>\n",
              "      <td>37</td>\n",
              "      <td>0</td>\n",
              "      <td>73</td>\n",
              "      <td>16</td>\n",
              "      <td>20</td>\n",
              "      <td>20</td>\n",
              "      <td>6</td>\n",
              "    </tr>\n",
              "  </tbody>\n",
              "</table>\n",
              "</div>\n",
              "      <button class=\"colab-df-convert\" onclick=\"convertToInteractive('df-521dd2e3-fd29-48ca-8624-d6ea22b4207f')\"\n",
              "              title=\"Convert this dataframe to an interactive table.\"\n",
              "              style=\"display:none;\">\n",
              "        \n",
              "  <svg xmlns=\"http://www.w3.org/2000/svg\" height=\"24px\"viewBox=\"0 0 24 24\"\n",
              "       width=\"24px\">\n",
              "    <path d=\"M0 0h24v24H0V0z\" fill=\"none\"/>\n",
              "    <path d=\"M18.56 5.44l.94 2.06.94-2.06 2.06-.94-2.06-.94-.94-2.06-.94 2.06-2.06.94zm-11 1L8.5 8.5l.94-2.06 2.06-.94-2.06-.94L8.5 2.5l-.94 2.06-2.06.94zm10 10l.94 2.06.94-2.06 2.06-.94-2.06-.94-.94-2.06-.94 2.06-2.06.94z\"/><path d=\"M17.41 7.96l-1.37-1.37c-.4-.4-.92-.59-1.43-.59-.52 0-1.04.2-1.43.59L10.3 9.45l-7.72 7.72c-.78.78-.78 2.05 0 2.83L4 21.41c.39.39.9.59 1.41.59.51 0 1.02-.2 1.41-.59l7.78-7.78 2.81-2.81c.8-.78.8-2.07 0-2.86zM5.41 20L4 18.59l7.72-7.72 1.47 1.35L5.41 20z\"/>\n",
              "  </svg>\n",
              "      </button>\n",
              "      \n",
              "  <style>\n",
              "    .colab-df-container {\n",
              "      display:flex;\n",
              "      flex-wrap:wrap;\n",
              "      gap: 12px;\n",
              "    }\n",
              "\n",
              "    .colab-df-convert {\n",
              "      background-color: #E8F0FE;\n",
              "      border: none;\n",
              "      border-radius: 50%;\n",
              "      cursor: pointer;\n",
              "      display: none;\n",
              "      fill: #1967D2;\n",
              "      height: 32px;\n",
              "      padding: 0 0 0 0;\n",
              "      width: 32px;\n",
              "    }\n",
              "\n",
              "    .colab-df-convert:hover {\n",
              "      background-color: #E2EBFA;\n",
              "      box-shadow: 0px 1px 2px rgba(60, 64, 67, 0.3), 0px 1px 3px 1px rgba(60, 64, 67, 0.15);\n",
              "      fill: #174EA6;\n",
              "    }\n",
              "\n",
              "    [theme=dark] .colab-df-convert {\n",
              "      background-color: #3B4455;\n",
              "      fill: #D2E3FC;\n",
              "    }\n",
              "\n",
              "    [theme=dark] .colab-df-convert:hover {\n",
              "      background-color: #434B5C;\n",
              "      box-shadow: 0px 1px 3px 1px rgba(0, 0, 0, 0.15);\n",
              "      filter: drop-shadow(0px 1px 2px rgba(0, 0, 0, 0.3));\n",
              "      fill: #FFFFFF;\n",
              "    }\n",
              "  </style>\n",
              "\n",
              "      <script>\n",
              "        const buttonEl =\n",
              "          document.querySelector('#df-521dd2e3-fd29-48ca-8624-d6ea22b4207f button.colab-df-convert');\n",
              "        buttonEl.style.display =\n",
              "          google.colab.kernel.accessAllowed ? 'block' : 'none';\n",
              "\n",
              "        async function convertToInteractive(key) {\n",
              "          const element = document.querySelector('#df-521dd2e3-fd29-48ca-8624-d6ea22b4207f');\n",
              "          const dataTable =\n",
              "            await google.colab.kernel.invokeFunction('convertToInteractive',\n",
              "                                                     [key], {});\n",
              "          if (!dataTable) return;\n",
              "\n",
              "          const docLinkHtml = 'Like what you see? Visit the ' +\n",
              "            '<a target=\"_blank\" href=https://colab.research.google.com/notebooks/data_table.ipynb>data table notebook</a>'\n",
              "            + ' to learn more about interactive tables.';\n",
              "          element.innerHTML = '';\n",
              "          dataTable['output_type'] = 'display_data';\n",
              "          await google.colab.output.renderOutput(dataTable, element);\n",
              "          const docLink = document.createElement('div');\n",
              "          docLink.innerHTML = docLinkHtml;\n",
              "          element.appendChild(docLink);\n",
              "        }\n",
              "      </script>\n",
              "    </div>\n",
              "  </div>\n",
              "  "
            ],
            "text/plain": [
              "    47  100   27   81   57   37   26    0    0.1   23   56   53  100.1   90  \\\n",
              "0    0   89   27  100   42   75   29   45     15   15   37    0     69    2   \n",
              "1    0   57   31   68   72   90  100  100     76   75   50   51     28   25   \n",
              "2    0  100    7   92    5   68   19   45     86   34  100   45     74   23   \n",
              "3    0   67   49   83  100  100   81   80     60   60   40   40     33   20   \n",
              "4  100  100   88   99   49   74   17   47      0   16   37    0     73   16   \n",
              "\n",
              "    40   98   8  \n",
              "0  100    6   2  \n",
              "1   16    0   1  \n",
              "2   67    0   4  \n",
              "3   47    0   1  \n",
              "4   20   20   6  "
            ]
          },
          "execution_count": 35,
          "metadata": {},
          "output_type": "execute_result"
        }
      ],
      "source": [
        "train = pd.read_csv(\"/content/pendigits-tra.csv\")\n",
        "test = pd.read_csv(\"/content/pendigits-tes.csv\")\n",
        "train.head()"
      ]
    },
    {
      "cell_type": "code",
      "execution_count": null,
      "metadata": {
        "colab": {
          "base_uri": "https://localhost:8080/",
          "height": 206
        },
        "id": "WCmsL5DSAP-k",
        "outputId": "d34f9630-ba99-445c-81f8-3be666969a5f"
      },
      "outputs": [
        {
          "data": {
            "text/html": [
              "\n",
              "  <div id=\"df-4a20a814-d29e-4e05-be82-980c1e18a80f\">\n",
              "    <div class=\"colab-df-container\">\n",
              "      <div>\n",
              "<style scoped>\n",
              "    .dataframe tbody tr th:only-of-type {\n",
              "        vertical-align: middle;\n",
              "    }\n",
              "\n",
              "    .dataframe tbody tr th {\n",
              "        vertical-align: top;\n",
              "    }\n",
              "\n",
              "    .dataframe thead th {\n",
              "        text-align: right;\n",
              "    }\n",
              "</style>\n",
              "<table border=\"1\" class=\"dataframe\">\n",
              "  <thead>\n",
              "    <tr style=\"text-align: right;\">\n",
              "      <th></th>\n",
              "      <th>88</th>\n",
              "      <th>92</th>\n",
              "      <th>2</th>\n",
              "      <th>99</th>\n",
              "      <th>16</th>\n",
              "      <th>66</th>\n",
              "      <th>94</th>\n",
              "      <th>37</th>\n",
              "      <th>70</th>\n",
              "      <th>0</th>\n",
              "      <th>0.1</th>\n",
              "      <th>24</th>\n",
              "      <th>42</th>\n",
              "      <th>65</th>\n",
              "      <th>100</th>\n",
              "      <th>100.1</th>\n",
              "      <th>8</th>\n",
              "    </tr>\n",
              "  </thead>\n",
              "  <tbody>\n",
              "    <tr>\n",
              "      <th>0</th>\n",
              "      <td>80</td>\n",
              "      <td>100</td>\n",
              "      <td>18</td>\n",
              "      <td>98</td>\n",
              "      <td>60</td>\n",
              "      <td>66</td>\n",
              "      <td>100</td>\n",
              "      <td>29</td>\n",
              "      <td>42</td>\n",
              "      <td>0</td>\n",
              "      <td>0</td>\n",
              "      <td>23</td>\n",
              "      <td>42</td>\n",
              "      <td>61</td>\n",
              "      <td>56</td>\n",
              "      <td>98</td>\n",
              "      <td>8</td>\n",
              "    </tr>\n",
              "    <tr>\n",
              "      <th>1</th>\n",
              "      <td>0</td>\n",
              "      <td>94</td>\n",
              "      <td>9</td>\n",
              "      <td>57</td>\n",
              "      <td>20</td>\n",
              "      <td>19</td>\n",
              "      <td>7</td>\n",
              "      <td>0</td>\n",
              "      <td>20</td>\n",
              "      <td>36</td>\n",
              "      <td>70</td>\n",
              "      <td>68</td>\n",
              "      <td>100</td>\n",
              "      <td>100</td>\n",
              "      <td>18</td>\n",
              "      <td>92</td>\n",
              "      <td>8</td>\n",
              "    </tr>\n",
              "    <tr>\n",
              "      <th>2</th>\n",
              "      <td>95</td>\n",
              "      <td>82</td>\n",
              "      <td>71</td>\n",
              "      <td>100</td>\n",
              "      <td>27</td>\n",
              "      <td>77</td>\n",
              "      <td>77</td>\n",
              "      <td>73</td>\n",
              "      <td>100</td>\n",
              "      <td>80</td>\n",
              "      <td>93</td>\n",
              "      <td>42</td>\n",
              "      <td>56</td>\n",
              "      <td>13</td>\n",
              "      <td>0</td>\n",
              "      <td>0</td>\n",
              "      <td>9</td>\n",
              "    </tr>\n",
              "    <tr>\n",
              "      <th>3</th>\n",
              "      <td>68</td>\n",
              "      <td>100</td>\n",
              "      <td>6</td>\n",
              "      <td>88</td>\n",
              "      <td>47</td>\n",
              "      <td>75</td>\n",
              "      <td>87</td>\n",
              "      <td>82</td>\n",
              "      <td>85</td>\n",
              "      <td>56</td>\n",
              "      <td>100</td>\n",
              "      <td>29</td>\n",
              "      <td>75</td>\n",
              "      <td>6</td>\n",
              "      <td>0</td>\n",
              "      <td>0</td>\n",
              "      <td>9</td>\n",
              "    </tr>\n",
              "    <tr>\n",
              "      <th>4</th>\n",
              "      <td>70</td>\n",
              "      <td>100</td>\n",
              "      <td>100</td>\n",
              "      <td>97</td>\n",
              "      <td>70</td>\n",
              "      <td>81</td>\n",
              "      <td>45</td>\n",
              "      <td>65</td>\n",
              "      <td>30</td>\n",
              "      <td>49</td>\n",
              "      <td>20</td>\n",
              "      <td>33</td>\n",
              "      <td>0</td>\n",
              "      <td>16</td>\n",
              "      <td>0</td>\n",
              "      <td>0</td>\n",
              "      <td>1</td>\n",
              "    </tr>\n",
              "  </tbody>\n",
              "</table>\n",
              "</div>\n",
              "      <button class=\"colab-df-convert\" onclick=\"convertToInteractive('df-4a20a814-d29e-4e05-be82-980c1e18a80f')\"\n",
              "              title=\"Convert this dataframe to an interactive table.\"\n",
              "              style=\"display:none;\">\n",
              "        \n",
              "  <svg xmlns=\"http://www.w3.org/2000/svg\" height=\"24px\"viewBox=\"0 0 24 24\"\n",
              "       width=\"24px\">\n",
              "    <path d=\"M0 0h24v24H0V0z\" fill=\"none\"/>\n",
              "    <path d=\"M18.56 5.44l.94 2.06.94-2.06 2.06-.94-2.06-.94-.94-2.06-.94 2.06-2.06.94zm-11 1L8.5 8.5l.94-2.06 2.06-.94-2.06-.94L8.5 2.5l-.94 2.06-2.06.94zm10 10l.94 2.06.94-2.06 2.06-.94-2.06-.94-.94-2.06-.94 2.06-2.06.94z\"/><path d=\"M17.41 7.96l-1.37-1.37c-.4-.4-.92-.59-1.43-.59-.52 0-1.04.2-1.43.59L10.3 9.45l-7.72 7.72c-.78.78-.78 2.05 0 2.83L4 21.41c.39.39.9.59 1.41.59.51 0 1.02-.2 1.41-.59l7.78-7.78 2.81-2.81c.8-.78.8-2.07 0-2.86zM5.41 20L4 18.59l7.72-7.72 1.47 1.35L5.41 20z\"/>\n",
              "  </svg>\n",
              "      </button>\n",
              "      \n",
              "  <style>\n",
              "    .colab-df-container {\n",
              "      display:flex;\n",
              "      flex-wrap:wrap;\n",
              "      gap: 12px;\n",
              "    }\n",
              "\n",
              "    .colab-df-convert {\n",
              "      background-color: #E8F0FE;\n",
              "      border: none;\n",
              "      border-radius: 50%;\n",
              "      cursor: pointer;\n",
              "      display: none;\n",
              "      fill: #1967D2;\n",
              "      height: 32px;\n",
              "      padding: 0 0 0 0;\n",
              "      width: 32px;\n",
              "    }\n",
              "\n",
              "    .colab-df-convert:hover {\n",
              "      background-color: #E2EBFA;\n",
              "      box-shadow: 0px 1px 2px rgba(60, 64, 67, 0.3), 0px 1px 3px 1px rgba(60, 64, 67, 0.15);\n",
              "      fill: #174EA6;\n",
              "    }\n",
              "\n",
              "    [theme=dark] .colab-df-convert {\n",
              "      background-color: #3B4455;\n",
              "      fill: #D2E3FC;\n",
              "    }\n",
              "\n",
              "    [theme=dark] .colab-df-convert:hover {\n",
              "      background-color: #434B5C;\n",
              "      box-shadow: 0px 1px 3px 1px rgba(0, 0, 0, 0.15);\n",
              "      filter: drop-shadow(0px 1px 2px rgba(0, 0, 0, 0.3));\n",
              "      fill: #FFFFFF;\n",
              "    }\n",
              "  </style>\n",
              "\n",
              "      <script>\n",
              "        const buttonEl =\n",
              "          document.querySelector('#df-4a20a814-d29e-4e05-be82-980c1e18a80f button.colab-df-convert');\n",
              "        buttonEl.style.display =\n",
              "          google.colab.kernel.accessAllowed ? 'block' : 'none';\n",
              "\n",
              "        async function convertToInteractive(key) {\n",
              "          const element = document.querySelector('#df-4a20a814-d29e-4e05-be82-980c1e18a80f');\n",
              "          const dataTable =\n",
              "            await google.colab.kernel.invokeFunction('convertToInteractive',\n",
              "                                                     [key], {});\n",
              "          if (!dataTable) return;\n",
              "\n",
              "          const docLinkHtml = 'Like what you see? Visit the ' +\n",
              "            '<a target=\"_blank\" href=https://colab.research.google.com/notebooks/data_table.ipynb>data table notebook</a>'\n",
              "            + ' to learn more about interactive tables.';\n",
              "          element.innerHTML = '';\n",
              "          dataTable['output_type'] = 'display_data';\n",
              "          await google.colab.output.renderOutput(dataTable, element);\n",
              "          const docLink = document.createElement('div');\n",
              "          docLink.innerHTML = docLinkHtml;\n",
              "          element.appendChild(docLink);\n",
              "        }\n",
              "      </script>\n",
              "    </div>\n",
              "  </div>\n",
              "  "
            ],
            "text/plain": [
              "    88   92    2   99   16   66   94   37   70    0    0.1   24   42   65  \\\n",
              "0   80  100   18   98   60   66  100   29   42    0      0   23   42   61   \n",
              "1    0   94    9   57   20   19    7    0   20   36     70   68  100  100   \n",
              "2   95   82   71  100   27   77   77   73  100   80     93   42   56   13   \n",
              "3   68  100    6   88   47   75   87   82   85   56    100   29   75    6   \n",
              "4   70  100  100   97   70   81   45   65   30   49     20   33    0   16   \n",
              "\n",
              "   100  100.1   8  \n",
              "0   56     98   8  \n",
              "1   18     92   8  \n",
              "2    0      0   9  \n",
              "3    0      0   9  \n",
              "4    0      0   1  "
            ]
          },
          "execution_count": 36,
          "metadata": {},
          "output_type": "execute_result"
        }
      ],
      "source": [
        "test.head()"
      ]
    },
    {
      "cell_type": "markdown",
      "metadata": {
        "id": "lz8SfdglCGeK"
      },
      "source": [
        "## splitting the dataset into features and target"
      ]
    },
    {
      "cell_type": "code",
      "execution_count": null,
      "metadata": {
        "colab": {
          "base_uri": "https://localhost:8080/"
        },
        "id": "FL4zgjHCAUTT",
        "outputId": "2659fda8-08e4-4037-d128-124cceeb9fb0"
      },
      "outputs": [
        {
          "name": "stdout",
          "output_type": "stream",
          "text": [
            "[[  0  89  27 ...   2 100   6]\n",
            " [  0  57  31 ...  25  16   0]\n",
            " [  0 100   7 ...  23  67   0]\n",
            " ...\n",
            " [100  98  60 ...   0   0   5]\n",
            " [ 59  65  91 ...   1 100   0]\n",
            " [  0  78  29 ...  36 100  40]]\n",
            "[[ 80 100  18 ...  61  56  98]\n",
            " [  0  94   9 ... 100  18  92]\n",
            " [ 95  82  71 ...  13   0   0]\n",
            " ...\n",
            " [ 56 100  27 ...  93  38  93]\n",
            " [ 19 100   0 ...  97  10  81]\n",
            " [ 38 100  37 ...  26  65   0]]\n",
            "[2 1 4 ... 5 1 7]\n",
            "[8 8 9 ... 0 0 4]\n"
          ]
        }
      ],
      "source": [
        "x_train = train.iloc[:,:-1].values\n",
        "y_train = train.iloc[:,-1].values\n",
        "x_test = test.iloc[:,:-1].values\n",
        "y_test = test.iloc[:,-1].values\n",
        "print(x_train)\n",
        "print(x_test)\n",
        "print(y_train)\n",
        "print(y_test)"
      ]
    },
    {
      "cell_type": "markdown",
      "metadata": {
        "id": "ML4VjYsG12Sx"
      },
      "source": [
        "## Evaluation function"
      ]
    },
    {
      "cell_type": "code",
      "execution_count": null,
      "metadata": {
        "id": "4SU-K8ut16lW"
      },
      "outputs": [],
      "source": [
        "def evaluation(y_test,y_pred,clf):\n",
        "  acc = accuracy_score(y_test,y_pred)\n",
        "  cm = confusion_matrix(y_test,y_pred)\n",
        "  disp = ConfusionMatrixDisplay(confusion_matrix=cm, display_labels=clf.classes_)\n",
        "  disp.plot()\n",
        "  return acc"
      ]
    },
    {
      "cell_type": "markdown",
      "metadata": {
        "id": "h-BRT9FjCS8H"
      },
      "source": [
        "## Decision tree"
      ]
    },
    {
      "cell_type": "code",
      "execution_count": null,
      "metadata": {
        "colab": {
          "base_uri": "https://localhost:8080/",
          "height": 298
        },
        "id": "Ra3bOnXmCFEn",
        "outputId": "5e7f7947-5acc-4177-a5a9-cbe09c36ea8a"
      },
      "outputs": [
        {
          "name": "stdout",
          "output_type": "stream",
          "text": [
            "0.9207892479267944\n"
          ]
        },
        {
          "data": {
            "image/png": "[encoded data removed]",
            "text/plain": [
              "<Figure size 432x288 with 2 Axes>"
            ]
          },
          "metadata": {},
          "output_type": "display_data"
        }
      ],
      "source": [
        "dt = DecisionTreeClassifier(random_state =0)\n",
        "dt.fit(x_train,y_train)\n",
        "y_dt = dt.predict(x_test)\n",
        "acc_dt = evaluation(y_test,y_dt,dt)\n",
        "print(acc_dt)"
      ]
    },
    {
      "cell_type": "markdown",
      "metadata": {
        "id": "x-fk960vjWxN"
      },
      "source": [
        "## Bagging "
      ]
    },
    {
      "cell_type": "markdown",
      "metadata": {
        "id": "zqMva2oJjiFA"
      },
      "source": [
        "**A)  Bagging for SVM**\n"
      ]
    },
    {
      "cell_type": "code",
      "execution_count": null,
      "metadata": {
        "colab": {
          "base_uri": "https://localhost:8080/",
          "height": 296
        },
        "id": "_5AnbSBXjV-0",
        "outputId": "339d425a-bd99-4e15-a73f-9a515f823c36"
      },
      "outputs": [
        {
          "name": "stdout",
          "output_type": "stream",
          "text": [
            "0.9785530454675436\n"
          ]
        },
        {
          "data": {
            "image/png": "[encoded data removed]",
            "text/plain": [
              "<Figure size 432x288 with 2 Axes>"
            ]
          },
          "metadata": {},
          "output_type": "display_data"
        }
      ],
      "source": [
        "bagging_svm = BaggingClassifier(SVC(), random_state=0)\n",
        "Bag_svm=bagging_svm.fit(x_train, y_train)\n",
        "y_pred_svm = Bag_svm.predict(x_test)\n",
        "acc_svm = evaluation(y_test,y_pred_svm,Bag_svm)\n",
        "print(acc_svm)"
      ]
    },
    {
      "cell_type": "markdown",
      "metadata": {
        "id": "WGx19WKKjnaD"
      },
      "source": [
        " **Bagging for Decision Tree**"
      ]
    },
    {
      "cell_type": "code",
      "execution_count": null,
      "metadata": {
        "colab": {
          "base_uri": "https://localhost:8080/",
          "height": 296
        },
        "id": "3E4XIeFfjmzf",
        "outputId": "3a769bfa-d337-4b4b-8f8e-bd36e1c622b4"
      },
      "outputs": [
        {
          "name": "stdout",
          "output_type": "stream",
          "text": [
            "0.9482413497283386\n"
          ]
        },
        {
          "data": {
            "image/png": "[encoded data removed]",
            "text/plain": [
              "<Figure size 432x288 with 2 Axes>"
            ]
          },
          "metadata": {},
          "output_type": "display_data"
        }
      ],
      "source": [
        "bagging_clf_DT = BaggingClassifier(\n",
        "    DecisionTreeClassifier(), random_state=0)\n",
        "Bag_DecisionTree=bagging_clf_DT.fit(x_train, y_train)\n",
        "y_pred_DT = Bag_DecisionTree.predict(x_test)\n",
        "acc_DT = evaluation(y_test,y_pred_DT,Bag_DecisionTree)\n",
        "print(acc_DT)"
      ]
    },
    {
      "cell_type": "markdown",
      "metadata": {
        "id": "ZdZ91T9ukV2W"
      },
      "source": [
        " **utilize majority voting**"
      ]
    },
    {
      "cell_type": "code",
      "execution_count": null,
      "metadata": {
        "colab": {
          "base_uri": "https://localhost:8080/"
        },
        "id": "E45Sd8CPkWXs",
        "outputId": "def93a63-2759-4ef6-d1d2-19812a8fc37a"
      },
      "outputs": [
        {
          "name": "stdout",
          "output_type": "stream",
          "text": [
            "Hard Voting Score  0.9602516442665141\n",
            "Soft Voting Score  0.976551329711181\n"
          ]
        }
      ],
      "source": [
        "# group / ensemble of models\n",
        "estimator = []\n",
        "estimator.append(('SVC', bagging_svm))\n",
        "estimator.append(('DTC', bagging_clf_DT))\n",
        "  \n",
        "# Voting Classifier with hard voting\n",
        "vot_hard = VotingClassifier(estimators = estimator, voting ='hard')\n",
        "vot_hard.fit(x_train, y_train)\n",
        "y_pred_svm = vot_hard.predict(x_test)\n",
        "  \n",
        "# using accuracy_score metric to predict accuracy\n",
        "score = accuracy_score(y_test, y_pred_svm)\n",
        "print(\"Hard Voting Score \" , score)\n",
        "  \n",
        "# Voting Classifier with soft voting\n",
        "vot_soft = VotingClassifier(estimators = estimator, voting ='soft')\n",
        "vot_soft.fit(x_train, y_train)\n",
        "y_pred_DT = vot_soft.predict(x_test)\n",
        "  \n",
        "# using accuracy_score\n",
        "score = accuracy_score(y_test, y_pred_DT)\n",
        "print(\"Soft Voting Score \", score)"
      ]
    },
    {
      "cell_type": "markdown",
      "metadata": {
        "id": "ACbA1piZmAxF"
      },
      "source": [
        "b)"
      ]
    },
    {
      "cell_type": "code",
      "execution_count": null,
      "metadata": {
        "colab": {
          "base_uri": "https://localhost:8080/"
        },
        "id": "4PcuDJOSlP0c",
        "outputId": "3eae9133-3355-49e6-d0c5-69e194cc5303"
      },
      "outputs": [
        {
          "output_type": "stream",
          "name": "stdout",
          "text": [
            "[0.9556762939662568, 0.9591078066914498, 0.9585358879039176, 0.9585358879039176, 0.9588218472976837]\n"
          ]
        },
        {
          "output_type": "execute_result",
          "data": {
            "text/plain": [
              "<function matplotlib.pyplot.show>"
            ]
          },
          "metadata": {},
          "execution_count": 109
        },
        {
          "output_type": "display_data",
          "data": {
            "text/plain": [
              "<Figure size 432x288 with 1 Axes>"
            ],
            "image/png": "[encoded data removed]"
          },
          "metadata": {
            "needs_background": "light"
          }
        }
      ],
      "source": [
        "Accuracy=[]\n",
        "N_Est=[10,50,100,150,200]\n",
        "for i in N_Est:\n",
        "\n",
        "  tree = bagging_clf_DT\n",
        "  estimator = BaggingClassifier(tree, n_estimators=i, random_state=2022)\n",
        "  estimator.fit(x_train, y_train)\n",
        "  y_pred = estimator.predict(x_test)\n",
        "  report = accuracy_score(y_test, y_pred)\n",
        "  Accuracy.append(report)\n",
        "print(Accuracy)\n",
        "plt.plot(N_Est,Accuracy)\n",
        "plt.title('accuracy vs. number of estimators')\n",
        "plt.xlabel(\"Number of estimators\")\n",
        "plt.ylabel(\"Accuracy\")\n",
        "plt.show"
      ]
    },
    {
      "cell_type": "markdown",
      "metadata": {
        "id": "QuJQpBDNmITr"
      },
      "source": [
        "From the previous figure ,the best number of estimators = 50"
      ]
    },
    {
      "cell_type": "markdown",
      "metadata": {
        "id": "gArHQN8KDxej"
      },
      "source": [
        "##Gradient boosting"
      ]
    },
    {
      "cell_type": "code",
      "execution_count": null,
      "metadata": {
        "colab": {
          "base_uri": "https://localhost:8080/"
        },
        "id": "xLGY_W6CDlrA",
        "outputId": "e77076ac-f65f-4223-bf43-90bb004ab97d"
      },
      "outputs": [
        {
          "name": "stdout",
          "output_type": "stream",
          "text": [
            "Accuracy of gradient boosting of no. of estimator 10 and learning rate 0.1 :  0.872748069774092\n",
            "Accuracy of gradient boosting of no. of estimator 10 and learning rate 0.3 :  0.929368029739777\n",
            "Accuracy of gradient boosting of no. of estimator 10 and learning rate 0.5 :  0.9433800400343151\n",
            "Accuracy of gradient boosting of no. of estimator 10 and learning rate 0.7 :  0.9433800400343151\n",
            "Accuracy of gradient boosting of no. of estimator 50 and learning rate 0.1 :  0.9499571060909351\n",
            "Accuracy of gradient boosting of no. of estimator 50 and learning rate 0.3 :  0.9636831569917071\n",
            "Accuracy of gradient boosting of no. of estimator 50 and learning rate 0.5 :  0.7354875607663712\n",
            "Accuracy of gradient boosting of no. of estimator 50 and learning rate 0.7 :  0.9559622533600228\n",
            "Accuracy of gradient boosting of no. of estimator 100 and learning rate 0.1 :  0.9619674006291107\n",
            "Accuracy of gradient boosting of no. of estimator 100 and learning rate 0.3 :  0.9645410351730054\n",
            "Accuracy of gradient boosting of no. of estimator 100 and learning rate 0.5 :  0.7372033171289677\n",
            "Accuracy of gradient boosting of no. of estimator 100 and learning rate 0.7 :  0.9573920503288533\n",
            "Accuracy of gradient boosting of no. of estimator 200 and learning rate 0.1 :  0.9656848727480698\n",
            "Accuracy of gradient boosting of no. of estimator 200 and learning rate 0.3 :  0.9651129539605376\n",
            "Accuracy of gradient boosting of no. of estimator 200 and learning rate 0.5 :  0.694309408064055\n",
            "Accuracy of gradient boosting of no. of estimator 200 and learning rate 0.7 :  0.1332570774949957\n",
            "argmax:  12\n"
          ]
        }
      ],
      "source": [
        "accuracies = []\n",
        "for i in [10,50,100,200]:\n",
        "  for j in [0.1,0.3,0.5,0.7]:\n",
        "    gradient = GradientBoostingClassifier(n_estimators=i,learning_rate=j)\n",
        "    gradient.fit(x_train,y_train)\n",
        "    y_gb = gradient.predict(x_test)\n",
        "    acc_gb = accuracy_score(y_test,y_gb)\n",
        "    accuracies.append(acc_gb)\n",
        "    print(\"Accuracy of gradient boosting of no. of estimator\" ,i, \"and learning rate\" ,j,\": \",acc_gb)\n",
        "print(\"argmax: \", np.argmax(accuracies))"
      ]
    },
    {
      "cell_type": "code",
      "execution_count": null,
      "metadata": {
        "colab": {
          "base_uri": "https://localhost:8080/",
          "height": 296
        },
        "id": "LzRrIWU82rGi",
        "outputId": "8dfc5d69-8ab4-4a65-8d1e-4dfed7bc92d7"
      },
      "outputs": [
        {
          "name": "stdout",
          "output_type": "stream",
          "text": [
            "0.9656848727480698\n"
          ]
        },
        {
          "data": {
            "image/png": "[encoded data removed]",
            "text/plain": [
              "<Figure size 432x288 with 2 Axes>"
            ]
          },
          "metadata": {},
          "output_type": "display_data"
        }
      ],
      "source": [
        "gradient = GradientBoostingClassifier(n_estimators=200,learning_rate=0.1)\n",
        "gradient.fit(x_train,y_train)\n",
        "y_gb = gradient.predict(x_test)\n",
        "acc_gb = evaluation(y_test,y_gb,gradient)\n",
        "print(acc_gb)"
      ]
    },
    {
      "cell_type": "markdown",
      "metadata": {
        "id": "zJXabbxG8WQ9"
      },
      "source": [
        "## XGBoost"
      ]
    },
    {
      "cell_type": "code",
      "execution_count": null,
      "metadata": {
        "colab": {
          "base_uri": "https://localhost:8080/",
          "height": 296
        },
        "id": "QjHys7FMm23M",
        "outputId": "9f78b80c-b57a-439c-9d16-00da5725a851"
      },
      "outputs": [
        {
          "name": "stdout",
          "output_type": "stream",
          "text": [
            "0.9648269945667716\n"
          ]
        },
        {
          "data": {
            "image/png": "[encoded data removed]",
            "text/plain": [
              "<Figure size 432x288 with 2 Axes>"
            ]
          },
          "metadata": {},
          "output_type": "display_data"
        }
      ],
      "source": [
        "xg = XGBClassifier(n_estimators=200,learning_rate=0.1)\n",
        "xg.fit(x_train, y_train)\n",
        "y_xg = xg.predict(x_test)\n",
        "acc_xg = evaluation(y_test,y_xg,xg)\n",
        "print(acc_xg)"
      ]
    }
  ],
  "metadata": {
    "colab": {
      "name": "Group_26_HW_4.ipynb",
      "provenance": []
    },
    "kernelspec": {
      "display_name": "Python 3",
      "name": "python3"
    },
    "language_info": {
      "name": "python"
    }
  },
  "nbformat": 4,
  "nbformat_minor": 0
}